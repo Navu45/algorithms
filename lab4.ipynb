{
 "cells": [
  {
   "cell_type": "code",
   "execution_count": 4,
   "metadata": {},
   "outputs": [
    {
     "data": {
      "text/plain": [
       "[0, 1, 2, 3, 4, 5, 6, 7, 8, 9]"
      ]
     },
     "execution_count": 4,
     "metadata": {},
     "output_type": "execute_result"
    }
   ],
   "source": [
    "# l = [i for i in range(10)]\n",
    "# l"
   ]
  },
  {
   "cell_type": "code",
   "execution_count": null,
   "metadata": {},
   "outputs": [],
   "source": [
    "k = 5\n",
    "curr_node = head\n",
    "for i in range(k):\n",
    "    if curr_node:\n",
    "        curr_node = curr_node.next\n",
    "    else:\n",
    "        break\n",
    "\n",
    "curr_n_k_node = head\n",
    "while curr_node.next:\n",
    "    curr_n_k_node = curr_n_k_node.next\n",
    "    curr_node = curr_node.next\n",
    "\n"
   ]
  },
  {
   "cell_type": "code",
   "execution_count": null,
   "metadata": {},
   "outputs": [],
   "source": []
  },
  {
   "cell_type": "markdown",
   "metadata": {},
   "source": [
    "var = <value_true> if <condition> else <value_false>"
   ]
  }
 ],
 "metadata": {
  "kernelspec": {
   "display_name": "bigdata1",
   "language": "python",
   "name": "python3"
  },
  "language_info": {
   "codemirror_mode": {
    "name": "ipython",
    "version": 3
   },
   "file_extension": ".py",
   "mimetype": "text/x-python",
   "name": "python",
   "nbconvert_exporter": "python",
   "pygments_lexer": "ipython3",
   "version": "3.10.4"
  }
 },
 "nbformat": 4,
 "nbformat_minor": 2
}
