{
 "cells": [
  {
   "cell_type": "code",
   "execution_count": 5,
   "metadata": {},
   "outputs": [],
   "source": [
    "class Node:\n",
    "    def __init__(self, data, next):\n",
    "        self.data = data\n",
    "        self.next = next        "
   ]
  },
  {
   "cell_type": "code",
   "execution_count": 6,
   "metadata": {},
   "outputs": [],
   "source": [
    "l = Node(0, None)"
   ]
  },
  {
   "cell_type": "code",
   "execution_count": 7,
   "metadata": {},
   "outputs": [],
   "source": [
    "currNode = l\n",
    "for i in range(1, 10):\n",
    "    newNode = Node(i, None)\n",
    "    currNode.next = newNode\n",
    "    currNode = currNode.next"
   ]
  },
  {
   "cell_type": "code",
   "execution_count": 8,
   "metadata": {},
   "outputs": [
    {
     "name": "stdout",
     "output_type": "stream",
     "text": [
      "0 <__main__.Node object at 0x0000013BDD749030>\n",
      "1 <__main__.Node object at 0x0000013BDD835210>\n",
      "2 <__main__.Node object at 0x0000013BDD835DB0>\n",
      "3 <__main__.Node object at 0x0000013BDD835750>\n",
      "4 <__main__.Node object at 0x0000013BDD835780>\n",
      "5 <__main__.Node object at 0x0000013BDD835FC0>\n",
      "6 <__main__.Node object at 0x0000013BDD8352A0>\n",
      "7 <__main__.Node object at 0x0000013BDD8358D0>\n",
      "8 <__main__.Node object at 0x0000013BDD836770>\n",
      "9 None\n"
     ]
    }
   ],
   "source": [
    "currNode = l\n",
    "while currNode:\n",
    "    print(currNode.data, currNode.next)\n",
    "    currNode = currNode.next"
   ]
  }
 ],
 "metadata": {
  "kernelspec": {
   "display_name": "bigdata1",
   "language": "python",
   "name": "python3"
  },
  "language_info": {
   "codemirror_mode": {
    "name": "ipython",
    "version": 3
   },
   "file_extension": ".py",
   "mimetype": "text/x-python",
   "name": "python",
   "nbconvert_exporter": "python",
   "pygments_lexer": "ipython3",
   "version": "3.10.4"
  }
 },
 "nbformat": 4,
 "nbformat_minor": 2
}
